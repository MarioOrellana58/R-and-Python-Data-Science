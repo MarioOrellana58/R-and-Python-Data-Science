{
 "cells": [
  {
   "cell_type": "markdown",
   "metadata": {},
   "source": [
    "# Datos de Admisiones"
   ]
  },
  {
   "cell_type": "markdown",
   "metadata": {},
   "source": [
    "## Librerías a utilizar"
   ]
  },
  {
   "cell_type": "code",
   "execution_count": 2,
   "metadata": {},
   "outputs": [],
   "source": [
    "import pandas as pd\n",
    "import numpy as np\n",
    "import pyodbc\n",
    "from matplotlib import pyplot as plt\n",
    "%matplotlib inline "
   ]
  },
  {
   "cell_type": "markdown",
   "metadata": {},
   "source": [
    "## a. Cree una conexión a SQL Server a la base de datos de AdmisionesDWH"
   ]
  },
  {
   "cell_type": "code",
   "execution_count": 3,
   "metadata": {},
   "outputs": [],
   "source": [
    "conexion = pyodbc.connect('Driver={SQL Server};'\n",
    "                          'Server=LAPTOP-MHM32UUF;'\n",
    "                          'Database=Admisiones_DWH;'\n",
    "                          'Trusted_Connection=yes;')"
   ]
  },
  {
   "cell_type": "markdown",
   "metadata": {},
   "source": [
    "## b. Utilice las librerías para manipulación de datos vistas en clase y cree data frames para las siguientes operaciones"
   ]
  },
  {
   "cell_type": "markdown",
   "metadata": {},
   "source": [
    "### i. Un conteo de la cantidad de exámenes que se realizaron agrupado por facultad"
   ]
  },
  {
   "cell_type": "code",
   "execution_count": 4,
   "metadata": {},
   "outputs": [],
   "source": [
    "data = pd.read_sql('select * from fact.examen e '\n",
    "\t+ ' inner join dimension.carrera car on e.sk_carrera=car.sk_carrera' \n",
    "\t+ ' inner join dimension.Candidato can on e.SK_Candidato = can.SK_Candidato' \n",
    "\t+ ' inner join dimension.Fecha f on e.DateKey = f.DateKey',conexion)"
   ]
  },
  {
   "cell_type": "code",
   "execution_count": 5,
   "metadata": {},
   "outputs": [
    {
     "data": {
      "text/html": [
       "<div>\n",
       "<style scoped>\n",
       "    .dataframe tbody tr th:only-of-type {\n",
       "        vertical-align: middle;\n",
       "    }\n",
       "\n",
       "    .dataframe tbody tr th {\n",
       "        vertical-align: top;\n",
       "    }\n",
       "\n",
       "    .dataframe thead th {\n",
       "        text-align: right;\n",
       "    }\n",
       "</style>\n",
       "<table border=\"1\" class=\"dataframe\">\n",
       "  <thead>\n",
       "    <tr style=\"text-align: right;\">\n",
       "      <th></th>\n",
       "      <th>NombreFacultad</th>\n",
       "      <th>ConteoExamenes</th>\n",
       "    </tr>\n",
       "  </thead>\n",
       "  <tbody>\n",
       "    <tr>\n",
       "      <th>0</th>\n",
       "      <td>Arquitectura</td>\n",
       "      <td>4132</td>\n",
       "    </tr>\n",
       "    <tr>\n",
       "      <th>1</th>\n",
       "      <td>Ciencias Agricolas</td>\n",
       "      <td>1471</td>\n",
       "    </tr>\n",
       "    <tr>\n",
       "      <th>2</th>\n",
       "      <td>Ciencias Economicas</td>\n",
       "      <td>4189</td>\n",
       "    </tr>\n",
       "    <tr>\n",
       "      <th>3</th>\n",
       "      <td>Ciencias Politicas</td>\n",
       "      <td>4258</td>\n",
       "    </tr>\n",
       "    <tr>\n",
       "      <th>4</th>\n",
       "      <td>Ingeniería</td>\n",
       "      <td>4274</td>\n",
       "    </tr>\n",
       "    <tr>\n",
       "      <th>5</th>\n",
       "      <td>Medicina</td>\n",
       "      <td>4130</td>\n",
       "    </tr>\n",
       "  </tbody>\n",
       "</table>\n",
       "</div>"
      ],
      "text/plain": [
       "        NombreFacultad  ConteoExamenes\n",
       "0         Arquitectura            4132\n",
       "1   Ciencias Agricolas            1471\n",
       "2  Ciencias Economicas            4189\n",
       "3   Ciencias Politicas            4258\n",
       "4           Ingeniería            4274\n",
       "5             Medicina            4130"
      ]
     },
     "execution_count": 5,
     "metadata": {},
     "output_type": "execute_result"
    }
   ],
   "source": [
    "df_ExamenesXFacultad = data.groupby('NombreFacultad').count()['ID_Examen'].reset_index(name='ConteoExamenes')\n",
    "df_ExamenesXFacultad"
   ]
  },
  {
   "cell_type": "markdown",
   "metadata": {},
   "source": [
    "### ii. Un conteo de la cantidad de candidatos agrupados por genero"
   ]
  },
  {
   "cell_type": "code",
   "execution_count": 6,
   "metadata": {},
   "outputs": [
    {
     "data": {
      "text/html": [
       "<div>\n",
       "<style scoped>\n",
       "    .dataframe tbody tr th:only-of-type {\n",
       "        vertical-align: middle;\n",
       "    }\n",
       "\n",
       "    .dataframe tbody tr th {\n",
       "        vertical-align: top;\n",
       "    }\n",
       "\n",
       "    .dataframe thead th {\n",
       "        text-align: right;\n",
       "    }\n",
       "</style>\n",
       "<table border=\"1\" class=\"dataframe\">\n",
       "  <thead>\n",
       "    <tr style=\"text-align: right;\">\n",
       "      <th></th>\n",
       "      <th>Genero</th>\n",
       "      <th>Candidatos</th>\n",
       "    </tr>\n",
       "  </thead>\n",
       "  <tbody>\n",
       "    <tr>\n",
       "      <th>0</th>\n",
       "      <td>F</td>\n",
       "      <td>11101</td>\n",
       "    </tr>\n",
       "    <tr>\n",
       "      <th>1</th>\n",
       "      <td>M</td>\n",
       "      <td>11353</td>\n",
       "    </tr>\n",
       "  </tbody>\n",
       "</table>\n",
       "</div>"
      ],
      "text/plain": [
       "  Genero  Candidatos\n",
       "0      F       11101\n",
       "1      M       11353"
      ]
     },
     "execution_count": 6,
     "metadata": {},
     "output_type": "execute_result"
    }
   ],
   "source": [
    "\n",
    "df_candidatosXGenero = data.groupby('Genero').count()['ID_Examen'].reset_index(name='Candidatos')\n",
    "df_candidatosXGenero"
   ]
  },
  {
   "cell_type": "markdown",
   "metadata": {},
   "source": [
    "### iii. Un total de la cantidad de ingresos por evaluaciones (columna precio) que se ha recibido agrupado por carrera"
   ]
  },
  {
   "cell_type": "code",
   "execution_count": 7,
   "metadata": {},
   "outputs": [
    {
     "data": {
      "text/html": [
       "<div>\n",
       "<style scoped>\n",
       "    .dataframe tbody tr th:only-of-type {\n",
       "        vertical-align: middle;\n",
       "    }\n",
       "\n",
       "    .dataframe tbody tr th {\n",
       "        vertical-align: top;\n",
       "    }\n",
       "\n",
       "    .dataframe thead th {\n",
       "        text-align: right;\n",
       "    }\n",
       "</style>\n",
       "<table border=\"1\" class=\"dataframe\">\n",
       "  <thead>\n",
       "    <tr style=\"text-align: right;\">\n",
       "      <th></th>\n",
       "      <th>NombreCarrera</th>\n",
       "      <th>Monto total</th>\n",
       "    </tr>\n",
       "  </thead>\n",
       "  <tbody>\n",
       "    <tr>\n",
       "      <th>0</th>\n",
       "      <td>Admin de Empresas</td>\n",
       "      <td>681005.95</td>\n",
       "    </tr>\n",
       "    <tr>\n",
       "      <th>1</th>\n",
       "      <td>Agronomia</td>\n",
       "      <td>697360.50</td>\n",
       "    </tr>\n",
       "    <tr>\n",
       "      <th>2</th>\n",
       "      <td>Arquitecrtura</td>\n",
       "      <td>647149.31</td>\n",
       "    </tr>\n",
       "    <tr>\n",
       "      <th>3</th>\n",
       "      <td>Ciencias sociales</td>\n",
       "      <td>669337.90</td>\n",
       "    </tr>\n",
       "    <tr>\n",
       "      <th>4</th>\n",
       "      <td>Contador Publico y Auditor</td>\n",
       "      <td>669215.37</td>\n",
       "    </tr>\n",
       "    <tr>\n",
       "      <th>5</th>\n",
       "      <td>Derecho internacional</td>\n",
       "      <td>701028.83</td>\n",
       "    </tr>\n",
       "    <tr>\n",
       "      <th>6</th>\n",
       "      <td>Diseño Industrial</td>\n",
       "      <td>640390.65</td>\n",
       "    </tr>\n",
       "    <tr>\n",
       "      <th>7</th>\n",
       "      <td>Diseño grafico</td>\n",
       "      <td>672837.46</td>\n",
       "    </tr>\n",
       "    <tr>\n",
       "      <th>8</th>\n",
       "      <td>Enfermeria</td>\n",
       "      <td>642697.91</td>\n",
       "    </tr>\n",
       "    <tr>\n",
       "      <th>9</th>\n",
       "      <td>Hoteleria</td>\n",
       "      <td>638154.88</td>\n",
       "    </tr>\n",
       "    <tr>\n",
       "      <th>10</th>\n",
       "      <td>Ingenieria Industrial</td>\n",
       "      <td>672342.46</td>\n",
       "    </tr>\n",
       "    <tr>\n",
       "      <th>11</th>\n",
       "      <td>Ingenieria Quimica</td>\n",
       "      <td>703036.11</td>\n",
       "    </tr>\n",
       "    <tr>\n",
       "      <th>12</th>\n",
       "      <td>Ingenieria en Informatica y Sistemas</td>\n",
       "      <td>651848.95</td>\n",
       "    </tr>\n",
       "    <tr>\n",
       "      <th>13</th>\n",
       "      <td>Medico y Cirujano</td>\n",
       "      <td>670685.96</td>\n",
       "    </tr>\n",
       "    <tr>\n",
       "      <th>14</th>\n",
       "      <td>Relaciones politicas</td>\n",
       "      <td>654919.74</td>\n",
       "    </tr>\n",
       "    <tr>\n",
       "      <th>15</th>\n",
       "      <td>Terapia respiratoria</td>\n",
       "      <td>649241.83</td>\n",
       "    </tr>\n",
       "  </tbody>\n",
       "</table>\n",
       "</div>"
      ],
      "text/plain": [
       "                           NombreCarrera  Monto total\n",
       "0                      Admin de Empresas    681005.95\n",
       "1                              Agronomia    697360.50\n",
       "2                          Arquitecrtura    647149.31\n",
       "3                      Ciencias sociales    669337.90\n",
       "4             Contador Publico y Auditor    669215.37\n",
       "5                  Derecho internacional    701028.83\n",
       "6                      Diseño Industrial    640390.65\n",
       "7                         Diseño grafico    672837.46\n",
       "8                             Enfermeria    642697.91\n",
       "9                              Hoteleria    638154.88\n",
       "10                 Ingenieria Industrial    672342.46\n",
       "11                    Ingenieria Quimica    703036.11\n",
       "12  Ingenieria en Informatica y Sistemas    651848.95\n",
       "13                     Medico y Cirujano    670685.96\n",
       "14                  Relaciones politicas    654919.74\n",
       "15                  Terapia respiratoria    649241.83"
      ]
     },
     "execution_count": 7,
     "metadata": {},
     "output_type": "execute_result"
    }
   ],
   "source": [
    "df_ingresosPorCarrera = data.groupby('NombreCarrera').sum()['Precio'].reset_index(name='Monto total')\n",
    "df_ingresosPorCarrera"
   ]
  },
  {
   "cell_type": "markdown",
   "metadata": {},
   "source": [
    "### iv. Un data frame filtrado que contenga únicamente las tres facultades con el promedio de la nota mas alto"
   ]
  },
  {
   "cell_type": "code",
   "execution_count": 8,
   "metadata": {},
   "outputs": [
    {
     "data": {
      "text/html": [
       "<div>\n",
       "<style scoped>\n",
       "    .dataframe tbody tr th:only-of-type {\n",
       "        vertical-align: middle;\n",
       "    }\n",
       "\n",
       "    .dataframe tbody tr th {\n",
       "        vertical-align: top;\n",
       "    }\n",
       "\n",
       "    .dataframe thead th {\n",
       "        text-align: right;\n",
       "    }\n",
       "</style>\n",
       "<table border=\"1\" class=\"dataframe\">\n",
       "  <thead>\n",
       "    <tr style=\"text-align: right;\">\n",
       "      <th></th>\n",
       "      <th>NombreCarrera</th>\n",
       "      <th>Promedio nota</th>\n",
       "    </tr>\n",
       "  </thead>\n",
       "  <tbody>\n",
       "    <tr>\n",
       "      <th>0</th>\n",
       "      <td>Admin de Empresas</td>\n",
       "      <td>75.798600</td>\n",
       "    </tr>\n",
       "    <tr>\n",
       "      <th>12</th>\n",
       "      <td>Ingenieria en Informatica y Sistemas</td>\n",
       "      <td>75.775018</td>\n",
       "    </tr>\n",
       "    <tr>\n",
       "      <th>15</th>\n",
       "      <td>Terapia respiratoria</td>\n",
       "      <td>75.774931</td>\n",
       "    </tr>\n",
       "  </tbody>\n",
       "</table>\n",
       "</div>"
      ],
      "text/plain": [
       "                           NombreCarrera  Promedio nota\n",
       "0                      Admin de Empresas      75.798600\n",
       "12  Ingenieria en Informatica y Sistemas      75.775018\n",
       "15                  Terapia respiratoria      75.774931"
      ]
     },
     "execution_count": 8,
     "metadata": {},
     "output_type": "execute_result"
    }
   ],
   "source": [
    "df_Top3PromediosXCarrera = (data.groupby('NombreCarrera').mean()['NotaTotal'].reset_index(name='Promedio nota')).sort_values(by='Promedio nota', ascending = False).head(3)\n",
    "df_Top3PromediosXCarrera"
   ]
  },
  {
   "cell_type": "markdown",
   "metadata": {},
   "source": [
    "## c. Utilice las librerías para plot (graficas) y cree las siguientes graficas"
   ]
  },
  {
   "cell_type": "markdown",
   "metadata": {},
   "source": [
    "### i. Un grafico de pie con la cantidad de exámenes agrupados por facultad"
   ]
  },
  {
   "cell_type": "code",
   "execution_count": 9,
   "metadata": {},
   "outputs": [
    {
     "data": {
      "text/plain": [
       "([<matplotlib.patches.Wedge at 0x244ba26d760>,\n",
       "  <matplotlib.patches.Wedge at 0x244ba0088e0>,\n",
       "  <matplotlib.patches.Wedge at 0x244ba76a520>,\n",
       "  <matplotlib.patches.Wedge at 0x244ba76ac40>,\n",
       "  <matplotlib.patches.Wedge at 0x244baed63a0>,\n",
       "  <matplotlib.patches.Wedge at 0x244baed6ac0>],\n",
       " [Text(0.9212418162118103, 0.6010936000846835, 'Arquitectura'),\n",
       "  Text(0.22796011993501153, 1.0761199671594313, 'Ciencias Agricolas'),\n",
       "  Text(-0.60572610207182, 0.9182025317264593, 'Ciencias Economicas'),\n",
       "  Text(-1.0793229511967846, -0.21227804177508233, 'Ciencias Politicas'),\n",
       "  Text(-0.20003285217253994, -1.081659307754396, 'Ingeniería'),\n",
       "  Text(0.9214099682788977, -0.6008358098151948, 'Medicina')],\n",
       " [Text(0.5024955361155329, 0.3278692364098273, '18.4%'),\n",
       "  Text(0.12434188360091536, 0.5869745275415078, '6.6%'),\n",
       "  Text(-0.33039605567553815, 0.5008377445780686, '18.7%'),\n",
       "  Text(-0.5887216097437006, -0.11578802278640853, '19.0%'),\n",
       "  Text(-0.10910882845774904, -0.5899959860478522, '19.0%'),\n",
       "  Text(0.5025872554248533, -0.32772862353556076, '18.4%')])"
      ]
     },
     "execution_count": 9,
     "metadata": {},
     "output_type": "execute_result"
    },
    {
     "data": {
      "image/png": "[encoded data removed]",
      "text/plain": [
       "<Figure size 432x288 with 1 Axes>"
      ]
     },
     "metadata": {},
     "output_type": "display_data"
    }
   ],
   "source": [
    "\n",
    "plt.pie(df_ExamenesXFacultad['ConteoExamenes'],labels=df_ExamenesXFacultad.NombreFacultad,autopct='%1.1f%%')"
   ]
  },
  {
   "cell_type": "markdown",
   "metadata": {},
   "source": [
    "### ii. Un grafico de barras con el promedio de la nota agrupado por carrera"
   ]
  },
  {
   "cell_type": "code",
   "execution_count": 63,
   "metadata": {},
   "outputs": [
    {
     "data": {
      "text/plain": [
       "0                        Admin de Empresas\n",
       "12    Ingenieria en Informatica y Sistemas\n",
       "15                    Terapia respiratoria\n",
       "5                    Derecho internacional\n",
       "10                   Ingenieria Industrial\n",
       "8                               Enfermeria\n",
       "13                       Medico y Cirujano\n",
       "14                    Relaciones politicas\n",
       "3                        Ciencias sociales\n",
       "9                                Hoteleria\n",
       "4               Contador Publico y Auditor\n",
       "11                      Ingenieria Quimica\n",
       "6                        Diseño Industrial\n",
       "7                           Diseño grafico\n",
       "2                            Arquitecrtura\n",
       "1                                Agronomia\n",
       "Name: NombreCarrera, dtype: object"
      ]
     },
     "execution_count": 63,
     "metadata": {},
     "output_type": "execute_result"
    }
   ],
   "source": [
    "df_PromediosXCarrera = (data.groupby('NombreCarrera').mean()['NotaTotal'].reset_index(name='Promedio nota')).sort_values(by='Promedio nota', ascending = False)\n",
    "df_PromediosXCarrera\n"
   ]
  },
  {
   "cell_type": "code",
   "execution_count": 86,
   "metadata": {},
   "outputs": [
    {
     "data": {
      "text/plain": [
       "<AxesSubplot:ylabel='NombreCarrera'>"
      ]
     },
     "execution_count": 86,
     "metadata": {},
     "output_type": "execute_result"
    },
    {
     "data": {
      "image/png": "[encoded data removed]",
      "text/plain": [
       "<Figure size 432x288 with 1 Axes>"
      ]
     },
     "metadata": {
      "needs_background": "light"
     },
     "output_type": "display_data"
    }
   ],
   "source": [
    "df_PromediosXCarrera.plot.barh(x=\"NombreCarrera\", y=\"Promedio nota\")\n",
    "# hace falta ajustar el eje para que se vean las diferenciass\n"
   ]
  },
  {
   "cell_type": "markdown",
   "metadata": {},
   "source": [
    "### iii. un grafico de línea con la cantidad de exámenes por año\n"
   ]
  },
  {
   "cell_type": "code",
   "execution_count": 90,
   "metadata": {},
   "outputs": [
    {
     "data": {
      "text/html": [
       "<div>\n",
       "<style scoped>\n",
       "    .dataframe tbody tr th:only-of-type {\n",
       "        vertical-align: middle;\n",
       "    }\n",
       "\n",
       "    .dataframe tbody tr th {\n",
       "        vertical-align: top;\n",
       "    }\n",
       "\n",
       "    .dataframe thead th {\n",
       "        text-align: right;\n",
       "    }\n",
       "</style>\n",
       "<table border=\"1\" class=\"dataframe\">\n",
       "  <thead>\n",
       "    <tr style=\"text-align: right;\">\n",
       "      <th></th>\n",
       "      <th>Year</th>\n",
       "      <th>Examenes</th>\n",
       "    </tr>\n",
       "  </thead>\n",
       "  <tbody>\n",
       "    <tr>\n",
       "      <th>0</th>\n",
       "      <td>2016</td>\n",
       "      <td>4310</td>\n",
       "    </tr>\n",
       "    <tr>\n",
       "      <th>1</th>\n",
       "      <td>2017</td>\n",
       "      <td>4416</td>\n",
       "    </tr>\n",
       "    <tr>\n",
       "      <th>2</th>\n",
       "      <td>2018</td>\n",
       "      <td>4538</td>\n",
       "    </tr>\n",
       "    <tr>\n",
       "      <th>3</th>\n",
       "      <td>2019</td>\n",
       "      <td>4540</td>\n",
       "    </tr>\n",
       "    <tr>\n",
       "      <th>4</th>\n",
       "      <td>2020</td>\n",
       "      <td>4650</td>\n",
       "    </tr>\n",
       "  </tbody>\n",
       "</table>\n",
       "</div>"
      ],
      "text/plain": [
       "   Year  Examenes\n",
       "0  2016      4310\n",
       "1  2017      4416\n",
       "2  2018      4538\n",
       "3  2019      4540\n",
       "4  2020      4650"
      ]
     },
     "execution_count": 90,
     "metadata": {},
     "output_type": "execute_result"
    }
   ],
   "source": [
    "df_examenesXAnio = data.groupby('Year').count()['ID_Examen'].reset_index(name='Examenes')\n",
    "df_examenesXAnio"
   ]
  },
  {
   "cell_type": "code",
   "execution_count": 91,
   "metadata": {},
   "outputs": [
    {
     "data": {
      "text/plain": [
       "<AxesSubplot:xlabel='Year'>"
      ]
     },
     "execution_count": 91,
     "metadata": {},
     "output_type": "execute_result"
    },
    {
     "data": {
      "image/png": "[encoded data removed]",
      "text/plain": [
       "<Figure size 432x288 with 1 Axes>"
      ]
     },
     "metadata": {
      "needs_background": "light"
     },
     "output_type": "display_data"
    }
   ],
   "source": [
    "df_examenesXAnio.plot.line(x=\"Year\", y=\"Examenes\")"
   ]
  }
 ],
 "metadata": {
  "interpreter": {
   "hash": "63fd5069d213b44bf678585dea6b12cceca9941eaf7f819626cde1f2670de90d"
  },
  "kernelspec": {
   "display_name": "Python 3.9.7 64-bit",
   "name": "python3"
  },
  "language_info": {
   "codemirror_mode": {
    "name": "ipython",
    "version": 3
   },
   "file_extension": ".py",
   "mimetype": "text/x-python",
   "name": "python",
   "nbconvert_exporter": "python",
   "pygments_lexer": "ipython3",
   "version": "3.9.7"
  },
  "orig_nbformat": 4
 },
 "nbformat": 4,
 "nbformat_minor": 2
}
